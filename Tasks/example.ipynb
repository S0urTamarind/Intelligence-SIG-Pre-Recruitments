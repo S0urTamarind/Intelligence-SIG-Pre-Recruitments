{
 "cells": [
  {
   "cell_type": "code",
   "execution_count": null,
   "id": "f957a657",
   "metadata": {},
   "outputs": [],
   "source": [
    "# Hello there"
   ]
  }
 ],
 "metadata": {
  "language_info": {
   "name": "python"
  }
 },
 "nbformat": 4,
 "nbformat_minor": 5
}
